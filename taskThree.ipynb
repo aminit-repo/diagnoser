{
 "cells": [
  {
   "cell_type": "code",
   "execution_count": 1,
   "id": "8ab07e4e",
   "metadata": {},
   "outputs": [
    {
     "name": "stdout",
     "output_type": "stream",
     "text": [
      "extablishing connection to https://google.com\n",
      "\n",
      "extablishing connection to https://facebook.com\n",
      "\n",
      "extablishing connection to https://fifger.com\n",
      "\n",
      "extablishing connection to https://fifger.com\n",
      "\n",
      "retrying again to establish connection to https://fifger.com\n",
      "\n",
      "extablishing connection to https://fifger.com\n",
      "\n",
      "The website https://fifger.com is probably offline\n",
      "\n",
      "You have a good internet connection\n",
      "\n"
     ]
    }
   ],
   "source": [
    "import urllib.request\n",
    "import time\n",
    "\n",
    "#address used for connectivity test\n",
    "url=['https://google.com', 'https://facebook.com', 'https://fifger.com']\n",
    "\n",
    "res_time=[]\n",
    "failed_url=[]\n",
    "\n",
    "def connect(urls, max_retry):\n",
    "    #esterblish connection to the address provided\n",
    "    for i in range(len(urls)):\n",
    "        print(f'extablishing connection to {urls[i]}\\n')\n",
    "        try_times=max_retry\n",
    "        try :\n",
    "            #clock the time before request.\n",
    "            ini_time=time.time()\n",
    "            #make request to server\n",
    "            urllib.request.urlopen(urls[i])\n",
    "            res_time.append(time.time() - ini_time)\n",
    "        except :\n",
    "            if max_retry == 1:\n",
    "                #save the failed request string\n",
    "                failed_url.append(urls[i])\n",
    "            else: \n",
    "                print(f'retrying again to establish connection to {urls[i]}\\n')\n",
    "                connect([urls[i]], try_times-1)\n",
    "\n",
    "\n",
    "#esterblish connection to all urls for a single trial\n",
    "connect(url,1)\n",
    "if len(failed_url) < 3:\n",
    "    retry_url=failed_url\n",
    "    failed_url=[]\n",
    "    #retry the failed url for 2 trials\n",
    "    connect(retry_url,2)\n",
    "    \n",
    "    #check all failed urls\n",
    "    for i in range(len(failed_url)):\n",
    "        print(f'The website {failed_url[i]} is probably offline\\n')\n",
    "        \n",
    "    if (sum(res_time)/len(res_time)) <= 5.0:\n",
    "        print('You have a good internet connection\\n')\n",
    "    else:\n",
    "        print('You have a bad internet connection\\n')\n",
    "        \n",
    "else:\n",
    "    print('your computer is probably not connected to the internet\\n')\n",
    "    \n",
    "\n"
   ]
  },
  {
   "cell_type": "code",
   "execution_count": null,
   "id": "d3e86714",
   "metadata": {},
   "outputs": [],
   "source": []
  }
 ],
 "metadata": {
  "kernelspec": {
   "display_name": "Python 3 (ipykernel)",
   "language": "python",
   "name": "python3"
  },
  "language_info": {
   "codemirror_mode": {
    "name": "ipython",
    "version": 3
   },
   "file_extension": ".py",
   "mimetype": "text/x-python",
   "name": "python",
   "nbconvert_exporter": "python",
   "pygments_lexer": "ipython3",
   "version": "3.9.13"
  }
 },
 "nbformat": 4,
 "nbformat_minor": 5
}
